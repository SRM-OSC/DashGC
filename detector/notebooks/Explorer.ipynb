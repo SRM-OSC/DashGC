{
  "nbformat": 4,
  "nbformat_minor": 0,
  "metadata": {
    "colab": {
      "name": "Explorer.ipynb",
      "provenance": []
    },
    "kernelspec": {
      "name": "python3",
      "display_name": "Python 3"
    },
    "accelerator": "GPU"
  },
  "cells": [
    {
      "cell_type": "code",
      "metadata": {
        "id": "xaKP5xD-2qch",
        "colab_type": "code",
        "colab": {}
      },
      "source": [
        "import os\n",
        "import time\n",
        "import pandas as pd"
      ],
      "execution_count": 0,
      "outputs": []
    },
    {
      "cell_type": "code",
      "metadata": {
        "id": "KWi-Iplm3Kql",
        "colab_type": "code",
        "colab": {
          "base_uri": "https://localhost:8080/",
          "height": 122
        },
        "outputId": "8cb55261-91e1-4bb8-ec49-aed3c666bc9d"
      },
      "source": [
        "from google.colab import drive\n",
        "drive.mount('/content/gdrive')"
      ],
      "execution_count": 2,
      "outputs": [
        {
          "output_type": "stream",
          "text": [
            "Go to this URL in a browser: https://accounts.google.com/o/oauth2/auth?client_id=947318989803-6bn6qk8qdgf4n4g3pfee6491hc0brc4i.apps.googleusercontent.com&redirect_uri=urn%3Aietf%3Awg%3Aoauth%3A2.0%3Aoob&scope=email%20https%3A%2F%2Fwww.googleapis.com%2Fauth%2Fdocs.test%20https%3A%2F%2Fwww.googleapis.com%2Fauth%2Fdrive%20https%3A%2F%2Fwww.googleapis.com%2Fauth%2Fdrive.photos.readonly%20https%3A%2F%2Fwww.googleapis.com%2Fauth%2Fpeopleapi.readonly&response_type=code\n",
            "\n",
            "Enter your authorization code:\n",
            "··········\n",
            "Mounted at /content/gdrive\n"
          ],
          "name": "stdout"
        }
      ]
    },
    {
      "cell_type": "code",
      "metadata": {
        "id": "I2sa2SOo8CC9",
        "colab_type": "code",
        "colab": {}
      },
      "source": [
        "train = pd.read_csv(\"/content/gdrive/My Drive/DashGC/Original/jester-v1-train.csv\", sep = ';', names = (\"video_id\", \"labels\", \"frames\"))\n",
        "val = pd.read_csv(\"/content/gdrive/My Drive/DashGC/Original/jester-v1-validation.csv\", sep = ';', names = (\"video_id\", \"labels\", \"frames\"))\n",
        "test = pd.read_csv(\"/content/gdrive/My Drive/DashGC/Original/jester-v1-test.csv\", names = (\"id\", \"frames\"))"
      ],
      "execution_count": 0,
      "outputs": []
    },
    {
      "cell_type": "code",
      "metadata": {
        "id": "j1FGnawvALS6",
        "colab_type": "code",
        "colab": {
          "base_uri": "https://localhost:8080/",
          "height": 34
        },
        "outputId": "6607f5b3-c173-45bf-ddaa-6bbc45001876"
      },
      "source": [
        "# Decompress the compressed \"Jester\" dataset in Google Colab VM\n",
        "\n",
        "start = time.time()\n",
        "!cat /content/gdrive/My\\ Drive/DashGC/Original/20bn-jester-v1-* | tar -xz\n",
        "stop = time.time()\n",
        "print('Decompression took', round(((stop - start) / 60), 2), 'mins')"
      ],
      "execution_count": 4,
      "outputs": [
        {
          "output_type": "stream",
          "text": [
            "Decompression took 11.89 mins\n"
          ],
          "name": "stdout"
        }
      ]
    },
    {
      "cell_type": "code",
      "metadata": {
        "id": "hecsRHj4Qe75",
        "colab_type": "code",
        "colab": {}
      },
      "source": [
        "train[\"frames\"] = train[\"video_id\"].map(lambda a: len(os.listdir(\"/content/20bn-jester-v1/\" + str(a))))\n",
        "val[\"frames\"] = val[\"video_id\"].map(lambda a: len(os.listdir(\"/content/20bn-jester-v1/\" + str(a))))\n",
        "test[\"frames\"] = test[\"id\"].map(lambda a: len(os.listdir(\"/content/20bn-jester-v1/\" + str(a))))"
      ],
      "execution_count": 0,
      "outputs": []
    },
    {
      "cell_type": "code",
      "metadata": {
        "id": "JeJxvnsCQ7Xe",
        "colab_type": "code",
        "colab": {
          "base_uri": "https://localhost:8080/",
          "height": 204
        },
        "outputId": "cc613945-8cef-4afe-b2c6-0220de9f3b4f"
      },
      "source": [
        "train.sort_values(\"video_id\").head()"
      ],
      "execution_count": 6,
      "outputs": [
        {
          "output_type": "execute_result",
          "data": {
            "text/html": [
              "<div>\n",
              "<style scoped>\n",
              "    .dataframe tbody tr th:only-of-type {\n",
              "        vertical-align: middle;\n",
              "    }\n",
              "\n",
              "    .dataframe tbody tr th {\n",
              "        vertical-align: top;\n",
              "    }\n",
              "\n",
              "    .dataframe thead th {\n",
              "        text-align: right;\n",
              "    }\n",
              "</style>\n",
              "<table border=\"1\" class=\"dataframe\">\n",
              "  <thead>\n",
              "    <tr style=\"text-align: right;\">\n",
              "      <th></th>\n",
              "      <th>video_id</th>\n",
              "      <th>labels</th>\n",
              "      <th>frames</th>\n",
              "    </tr>\n",
              "  </thead>\n",
              "  <tbody>\n",
              "    <tr>\n",
              "      <th>97184</th>\n",
              "      <td>1</td>\n",
              "      <td>Doing other things</td>\n",
              "      <td>37</td>\n",
              "    </tr>\n",
              "    <tr>\n",
              "      <th>111045</th>\n",
              "      <td>3</td>\n",
              "      <td>Pushing Two Fingers Away</td>\n",
              "      <td>37</td>\n",
              "    </tr>\n",
              "    <tr>\n",
              "      <th>59351</th>\n",
              "      <td>4</td>\n",
              "      <td>Swiping Right</td>\n",
              "      <td>30</td>\n",
              "    </tr>\n",
              "    <tr>\n",
              "      <th>36296</th>\n",
              "      <td>5</td>\n",
              "      <td>Rolling Hand Backward</td>\n",
              "      <td>35</td>\n",
              "    </tr>\n",
              "    <tr>\n",
              "      <th>82397</th>\n",
              "      <td>6</td>\n",
              "      <td>Drumming Fingers</td>\n",
              "      <td>37</td>\n",
              "    </tr>\n",
              "  </tbody>\n",
              "</table>\n",
              "</div>"
            ],
            "text/plain": [
              "        video_id                    labels  frames\n",
              "97184          1        Doing other things      37\n",
              "111045         3  Pushing Two Fingers Away      37\n",
              "59351          4             Swiping Right      30\n",
              "36296          5     Rolling Hand Backward      35\n",
              "82397          6          Drumming Fingers      37"
            ]
          },
          "metadata": {
            "tags": []
          },
          "execution_count": 6
        }
      ]
    },
    {
      "cell_type": "code",
      "metadata": {
        "id": "tM1aLi-eQ_oK",
        "colab_type": "code",
        "colab": {
          "base_uri": "https://localhost:8080/",
          "height": 204
        },
        "outputId": "7152b6cb-f639-420c-e16b-7631dbf23686"
      },
      "source": [
        "val.sort_values(\"video_id\").head()"
      ],
      "execution_count": 7,
      "outputs": [
        {
          "output_type": "execute_result",
          "data": {
            "text/html": [
              "<div>\n",
              "<style scoped>\n",
              "    .dataframe tbody tr th:only-of-type {\n",
              "        vertical-align: middle;\n",
              "    }\n",
              "\n",
              "    .dataframe tbody tr th {\n",
              "        vertical-align: top;\n",
              "    }\n",
              "\n",
              "    .dataframe thead th {\n",
              "        text-align: right;\n",
              "    }\n",
              "</style>\n",
              "<table border=\"1\" class=\"dataframe\">\n",
              "  <thead>\n",
              "    <tr style=\"text-align: right;\">\n",
              "      <th></th>\n",
              "      <th>video_id</th>\n",
              "      <th>labels</th>\n",
              "      <th>frames</th>\n",
              "    </tr>\n",
              "  </thead>\n",
              "  <tbody>\n",
              "    <tr>\n",
              "      <th>13384</th>\n",
              "      <td>16</td>\n",
              "      <td>Thumb Down</td>\n",
              "      <td>35</td>\n",
              "    </tr>\n",
              "    <tr>\n",
              "      <th>4085</th>\n",
              "      <td>22</td>\n",
              "      <td>Zooming In With Full Hand</td>\n",
              "      <td>37</td>\n",
              "    </tr>\n",
              "    <tr>\n",
              "      <th>9273</th>\n",
              "      <td>23</td>\n",
              "      <td>Sliding Two Fingers Right</td>\n",
              "      <td>38</td>\n",
              "    </tr>\n",
              "    <tr>\n",
              "      <th>14519</th>\n",
              "      <td>30</td>\n",
              "      <td>Swiping Down</td>\n",
              "      <td>37</td>\n",
              "    </tr>\n",
              "    <tr>\n",
              "      <th>3502</th>\n",
              "      <td>35</td>\n",
              "      <td>Drumming Fingers</td>\n",
              "      <td>36</td>\n",
              "    </tr>\n",
              "  </tbody>\n",
              "</table>\n",
              "</div>"
            ],
            "text/plain": [
              "       video_id                     labels  frames\n",
              "13384        16                 Thumb Down      35\n",
              "4085         22  Zooming In With Full Hand      37\n",
              "9273         23  Sliding Two Fingers Right      38\n",
              "14519        30               Swiping Down      37\n",
              "3502         35           Drumming Fingers      36"
            ]
          },
          "metadata": {
            "tags": []
          },
          "execution_count": 7
        }
      ]
    },
    {
      "cell_type": "code",
      "metadata": {
        "id": "_VOtR6pkSFx6",
        "colab_type": "code",
        "colab": {
          "base_uri": "https://localhost:8080/",
          "height": 204
        },
        "outputId": "fbcf6f1f-52a8-417a-f110-2b2870bfc95b"
      },
      "source": [
        "test.sort_values(\"id\").head()"
      ],
      "execution_count": 8,
      "outputs": [
        {
          "output_type": "execute_result",
          "data": {
            "text/html": [
              "<div>\n",
              "<style scoped>\n",
              "    .dataframe tbody tr th:only-of-type {\n",
              "        vertical-align: middle;\n",
              "    }\n",
              "\n",
              "    .dataframe tbody tr th {\n",
              "        vertical-align: top;\n",
              "    }\n",
              "\n",
              "    .dataframe thead th {\n",
              "        text-align: right;\n",
              "    }\n",
              "</style>\n",
              "<table border=\"1\" class=\"dataframe\">\n",
              "  <thead>\n",
              "    <tr style=\"text-align: right;\">\n",
              "      <th></th>\n",
              "      <th>id</th>\n",
              "      <th>frames</th>\n",
              "    </tr>\n",
              "  </thead>\n",
              "  <tbody>\n",
              "    <tr>\n",
              "      <th>9742</th>\n",
              "      <td>2</td>\n",
              "      <td>37</td>\n",
              "    </tr>\n",
              "    <tr>\n",
              "      <th>117</th>\n",
              "      <td>15</td>\n",
              "      <td>33</td>\n",
              "    </tr>\n",
              "    <tr>\n",
              "      <th>12528</th>\n",
              "      <td>18</td>\n",
              "      <td>32</td>\n",
              "    </tr>\n",
              "    <tr>\n",
              "      <th>13234</th>\n",
              "      <td>21</td>\n",
              "      <td>37</td>\n",
              "    </tr>\n",
              "    <tr>\n",
              "      <th>12684</th>\n",
              "      <td>32</td>\n",
              "      <td>36</td>\n",
              "    </tr>\n",
              "  </tbody>\n",
              "</table>\n",
              "</div>"
            ],
            "text/plain": [
              "       id  frames\n",
              "9742    2      37\n",
              "117    15      33\n",
              "12528  18      32\n",
              "13234  21      37\n",
              "12684  32      36"
            ]
          },
          "metadata": {
            "tags": []
          },
          "execution_count": 8
        }
      ]
    },
    {
      "cell_type": "code",
      "metadata": {
        "id": "I2GaM9DI808S",
        "colab_type": "code",
        "colab": {
          "base_uri": "https://localhost:8080/",
          "height": 297
        },
        "outputId": "6f4ae4e9-ae29-4e5a-f424-9485313360db"
      },
      "source": [
        "train.describe()"
      ],
      "execution_count": 9,
      "outputs": [
        {
          "output_type": "execute_result",
          "data": {
            "text/html": [
              "<div>\n",
              "<style scoped>\n",
              "    .dataframe tbody tr th:only-of-type {\n",
              "        vertical-align: middle;\n",
              "    }\n",
              "\n",
              "    .dataframe tbody tr th {\n",
              "        vertical-align: top;\n",
              "    }\n",
              "\n",
              "    .dataframe thead th {\n",
              "        text-align: right;\n",
              "    }\n",
              "</style>\n",
              "<table border=\"1\" class=\"dataframe\">\n",
              "  <thead>\n",
              "    <tr style=\"text-align: right;\">\n",
              "      <th></th>\n",
              "      <th>video_id</th>\n",
              "      <th>frames</th>\n",
              "    </tr>\n",
              "  </thead>\n",
              "  <tbody>\n",
              "    <tr>\n",
              "      <th>count</th>\n",
              "      <td>118562.000000</td>\n",
              "      <td>118562.000000</td>\n",
              "    </tr>\n",
              "    <tr>\n",
              "      <th>mean</th>\n",
              "      <td>74014.563663</td>\n",
              "      <td>35.586023</td>\n",
              "    </tr>\n",
              "    <tr>\n",
              "      <th>std</th>\n",
              "      <td>42788.066743</td>\n",
              "      <td>2.355016</td>\n",
              "    </tr>\n",
              "    <tr>\n",
              "      <th>min</th>\n",
              "      <td>1.000000</td>\n",
              "      <td>12.000000</td>\n",
              "    </tr>\n",
              "    <tr>\n",
              "      <th>25%</th>\n",
              "      <td>36858.250000</td>\n",
              "      <td>35.000000</td>\n",
              "    </tr>\n",
              "    <tr>\n",
              "      <th>50%</th>\n",
              "      <td>74009.500000</td>\n",
              "      <td>36.000000</td>\n",
              "    </tr>\n",
              "    <tr>\n",
              "      <th>75%</th>\n",
              "      <td>111111.500000</td>\n",
              "      <td>37.000000</td>\n",
              "    </tr>\n",
              "    <tr>\n",
              "      <th>max</th>\n",
              "      <td>148092.000000</td>\n",
              "      <td>70.000000</td>\n",
              "    </tr>\n",
              "  </tbody>\n",
              "</table>\n",
              "</div>"
            ],
            "text/plain": [
              "            video_id         frames\n",
              "count  118562.000000  118562.000000\n",
              "mean    74014.563663      35.586023\n",
              "std     42788.066743       2.355016\n",
              "min         1.000000      12.000000\n",
              "25%     36858.250000      35.000000\n",
              "50%     74009.500000      36.000000\n",
              "75%    111111.500000      37.000000\n",
              "max    148092.000000      70.000000"
            ]
          },
          "metadata": {
            "tags": []
          },
          "execution_count": 9
        }
      ]
    },
    {
      "cell_type": "code",
      "metadata": {
        "id": "580HRl-99hM6",
        "colab_type": "code",
        "colab": {
          "base_uri": "https://localhost:8080/",
          "height": 297
        },
        "outputId": "2eeffceb-d856-4381-b5e5-c9a1e8d5143f"
      },
      "source": [
        "val.describe()"
      ],
      "execution_count": 10,
      "outputs": [
        {
          "output_type": "execute_result",
          "data": {
            "text/html": [
              "<div>\n",
              "<style scoped>\n",
              "    .dataframe tbody tr th:only-of-type {\n",
              "        vertical-align: middle;\n",
              "    }\n",
              "\n",
              "    .dataframe tbody tr th {\n",
              "        vertical-align: top;\n",
              "    }\n",
              "\n",
              "    .dataframe thead th {\n",
              "        text-align: right;\n",
              "    }\n",
              "</style>\n",
              "<table border=\"1\" class=\"dataframe\">\n",
              "  <thead>\n",
              "    <tr style=\"text-align: right;\">\n",
              "      <th></th>\n",
              "      <th>video_id</th>\n",
              "      <th>frames</th>\n",
              "    </tr>\n",
              "  </thead>\n",
              "  <tbody>\n",
              "    <tr>\n",
              "      <th>count</th>\n",
              "      <td>14787.000000</td>\n",
              "      <td>14787.000000</td>\n",
              "    </tr>\n",
              "    <tr>\n",
              "      <th>mean</th>\n",
              "      <td>74259.369987</td>\n",
              "      <td>36.016636</td>\n",
              "    </tr>\n",
              "    <tr>\n",
              "      <th>std</th>\n",
              "      <td>42597.398716</td>\n",
              "      <td>1.859350</td>\n",
              "    </tr>\n",
              "    <tr>\n",
              "      <th>min</th>\n",
              "      <td>16.000000</td>\n",
              "      <td>13.000000</td>\n",
              "    </tr>\n",
              "    <tr>\n",
              "      <th>25%</th>\n",
              "      <td>37732.000000</td>\n",
              "      <td>36.000000</td>\n",
              "    </tr>\n",
              "    <tr>\n",
              "      <th>50%</th>\n",
              "      <td>74275.000000</td>\n",
              "      <td>37.000000</td>\n",
              "    </tr>\n",
              "    <tr>\n",
              "      <th>75%</th>\n",
              "      <td>111037.500000</td>\n",
              "      <td>37.000000</td>\n",
              "    </tr>\n",
              "    <tr>\n",
              "      <th>max</th>\n",
              "      <td>148080.000000</td>\n",
              "      <td>67.000000</td>\n",
              "    </tr>\n",
              "  </tbody>\n",
              "</table>\n",
              "</div>"
            ],
            "text/plain": [
              "            video_id        frames\n",
              "count   14787.000000  14787.000000\n",
              "mean    74259.369987     36.016636\n",
              "std     42597.398716      1.859350\n",
              "min        16.000000     13.000000\n",
              "25%     37732.000000     36.000000\n",
              "50%     74275.000000     37.000000\n",
              "75%    111037.500000     37.000000\n",
              "max    148080.000000     67.000000"
            ]
          },
          "metadata": {
            "tags": []
          },
          "execution_count": 10
        }
      ]
    },
    {
      "cell_type": "code",
      "metadata": {
        "id": "IawS52H29jHH",
        "colab_type": "code",
        "colab": {
          "base_uri": "https://localhost:8080/",
          "height": 297
        },
        "outputId": "782ec3a3-45c8-4f73-f77f-96548e5f8fcf"
      },
      "source": [
        "test.describe()"
      ],
      "execution_count": 11,
      "outputs": [
        {
          "output_type": "execute_result",
          "data": {
            "text/html": [
              "<div>\n",
              "<style scoped>\n",
              "    .dataframe tbody tr th:only-of-type {\n",
              "        vertical-align: middle;\n",
              "    }\n",
              "\n",
              "    .dataframe tbody tr th {\n",
              "        vertical-align: top;\n",
              "    }\n",
              "\n",
              "    .dataframe thead th {\n",
              "        text-align: right;\n",
              "    }\n",
              "</style>\n",
              "<table border=\"1\" class=\"dataframe\">\n",
              "  <thead>\n",
              "    <tr style=\"text-align: right;\">\n",
              "      <th></th>\n",
              "      <th>id</th>\n",
              "      <th>frames</th>\n",
              "    </tr>\n",
              "  </thead>\n",
              "  <tbody>\n",
              "    <tr>\n",
              "      <th>count</th>\n",
              "      <td>14743.000000</td>\n",
              "      <td>14743.000000</td>\n",
              "    </tr>\n",
              "    <tr>\n",
              "      <th>mean</th>\n",
              "      <td>74089.824120</td>\n",
              "      <td>35.803636</td>\n",
              "    </tr>\n",
              "    <tr>\n",
              "      <th>std</th>\n",
              "      <td>42604.755169</td>\n",
              "      <td>2.250138</td>\n",
              "    </tr>\n",
              "    <tr>\n",
              "      <th>min</th>\n",
              "      <td>2.000000</td>\n",
              "      <td>13.000000</td>\n",
              "    </tr>\n",
              "    <tr>\n",
              "      <th>25%</th>\n",
              "      <td>37441.000000</td>\n",
              "      <td>35.000000</td>\n",
              "    </tr>\n",
              "    <tr>\n",
              "      <th>50%</th>\n",
              "      <td>74177.000000</td>\n",
              "      <td>37.000000</td>\n",
              "    </tr>\n",
              "    <tr>\n",
              "      <th>75%</th>\n",
              "      <td>110787.500000</td>\n",
              "      <td>37.000000</td>\n",
              "    </tr>\n",
              "    <tr>\n",
              "      <th>max</th>\n",
              "      <td>148087.000000</td>\n",
              "      <td>46.000000</td>\n",
              "    </tr>\n",
              "  </tbody>\n",
              "</table>\n",
              "</div>"
            ],
            "text/plain": [
              "                  id        frames\n",
              "count   14743.000000  14743.000000\n",
              "mean    74089.824120     35.803636\n",
              "std     42604.755169      2.250138\n",
              "min         2.000000     13.000000\n",
              "25%     37441.000000     35.000000\n",
              "50%     74177.000000     37.000000\n",
              "75%    110787.500000     37.000000\n",
              "max    148087.000000     46.000000"
            ]
          },
          "metadata": {
            "tags": []
          },
          "execution_count": 11
        }
      ]
    },
    {
      "cell_type": "code",
      "metadata": {
        "id": "9I-dpnIESHAi",
        "colab_type": "code",
        "colab": {}
      },
      "source": [
        "train.sort_values(\"video_id\").to_csv(\"/content/gdrive/My Drive/DashGC/Reorganized/Train.csv\", sep = \",\", index = False, encoding = \"utf-8\")\n",
        "val.sort_values(\"video_id\").to_csv(\"/content/gdrive/My Drive/DashGC/Reorganized/Validation.csv\", sep = \",\", index = False, encoding = \"utf-8\")\n",
        "test.sort_values(\"id\").to_csv(\"/content/gdrive/My Drive/DashGC/Reorganized/Test.csv\", sep = \",\", index = False, encoding = \"utf-8\")"
      ],
      "execution_count": 0,
      "outputs": []
    },
    {
      "cell_type": "code",
      "metadata": {
        "id": "4gA4RyJIn_7z",
        "colab_type": "code",
        "colab": {
          "base_uri": "https://localhost:8080/",
          "height": 510
        },
        "outputId": "1f3ffd54-0f03-41a7-8116-fa5a60e51b23"
      },
      "source": [
        "train.groupby(by = \"labels\").size()"
      ],
      "execution_count": 13,
      "outputs": [
        {
          "output_type": "execute_result",
          "data": {
            "text/plain": [
              "labels\n",
              "Doing other things               9592\n",
              "Drumming Fingers                 4371\n",
              "No gesture                       4278\n",
              "Pulling Hand In                  4323\n",
              "Pulling Two Fingers In           4267\n",
              "Pushing Hand Away                4357\n",
              "Pushing Two Fingers Away         4291\n",
              "Rolling Hand Backward            4032\n",
              "Rolling Hand Forward             4132\n",
              "Shaking Hand                     4258\n",
              "Sliding Two Fingers Down         4348\n",
              "Sliding Two Fingers Left         4292\n",
              "Sliding Two Fingers Right        4206\n",
              "Sliding Two Fingers Up           4219\n",
              "Stop Sign                        4337\n",
              "Swiping Down                     4259\n",
              "Swiping Left                     4162\n",
              "Swiping Right                    4084\n",
              "Swiping Up                       4220\n",
              "Thumb Down                       4390\n",
              "Thumb Up                         4373\n",
              "Turning Hand Clockwise           3216\n",
              "Turning Hand Counterclockwise    3398\n",
              "Zooming In With Full Hand        4251\n",
              "Zooming In With Two Fingers      4302\n",
              "Zooming Out With Full Hand       4281\n",
              "Zooming Out With Two Fingers     4323\n",
              "dtype: int64"
            ]
          },
          "metadata": {
            "tags": []
          },
          "execution_count": 13
        }
      ]
    },
    {
      "cell_type": "code",
      "metadata": {
        "id": "gCkZqCo_oHf1",
        "colab_type": "code",
        "colab": {
          "base_uri": "https://localhost:8080/",
          "height": 510
        },
        "outputId": "d73c9b72-0524-4b8b-b397-75bc4febb479"
      },
      "source": [
        "val.groupby(by = \"labels\").size()"
      ],
      "execution_count": 14,
      "outputs": [
        {
          "output_type": "execute_result",
          "data": {
            "text/plain": [
              "labels\n",
              "Doing other things               1468\n",
              "Drumming Fingers                  535\n",
              "No gesture                        533\n",
              "Pulling Hand In                   526\n",
              "Pulling Two Fingers In            519\n",
              "Pushing Hand Away                 538\n",
              "Pushing Two Fingers Away          531\n",
              "Rolling Hand Backward             493\n",
              "Rolling Hand Forward              521\n",
              "Shaking Hand                      528\n",
              "Sliding Two Fingers Down          531\n",
              "Sliding Two Fingers Left          519\n",
              "Sliding Two Fingers Right         516\n",
              "Sliding Two Fingers Up            522\n",
              "Stop Sign                         536\n",
              "Swiping Down                      520\n",
              "Swiping Left                      494\n",
              "Swiping Right                     486\n",
              "Swiping Up                        508\n",
              "Thumb Down                        536\n",
              "Thumb Up                          539\n",
              "Turning Hand Clockwise            385\n",
              "Turning Hand Counterclockwise     399\n",
              "Zooming In With Full Hand         526\n",
              "Zooming In With Two Fingers       522\n",
              "Zooming Out With Full Hand        526\n",
              "Zooming Out With Two Fingers      530\n",
              "dtype: int64"
            ]
          },
          "metadata": {
            "tags": []
          },
          "execution_count": 14
        }
      ]
    },
    {
      "cell_type": "code",
      "metadata": {
        "id": "99L6R_XGoOTY",
        "colab_type": "code",
        "colab": {
          "base_uri": "https://localhost:8080/",
          "height": 850
        },
        "outputId": "9d870c94-417d-40e5-d1ab-7a8cc8384d6d"
      },
      "source": [
        "train.groupby(by = \"frames\").size()"
      ],
      "execution_count": 15,
      "outputs": [
        {
          "output_type": "execute_result",
          "data": {
            "text/plain": [
              "frames\n",
              "12        2\n",
              "13        6\n",
              "14        2\n",
              "15        5\n",
              "16        4\n",
              "17        5\n",
              "18        7\n",
              "19       55\n",
              "20       45\n",
              "21       39\n",
              "22      103\n",
              "23      542\n",
              "24      184\n",
              "25      247\n",
              "26      202\n",
              "27      157\n",
              "28      284\n",
              "29      419\n",
              "30      795\n",
              "31     1704\n",
              "32     5305\n",
              "33     9702\n",
              "34     9122\n",
              "35     9375\n",
              "36    22567\n",
              "37    50420\n",
              "38     6135\n",
              "39      820\n",
              "40      153\n",
              "41       43\n",
              "42       30\n",
              "43       12\n",
              "44       15\n",
              "45       14\n",
              "46       10\n",
              "47        8\n",
              "48        7\n",
              "49        3\n",
              "50        3\n",
              "51        3\n",
              "53        1\n",
              "54        1\n",
              "56        2\n",
              "62        1\n",
              "63        1\n",
              "69        1\n",
              "70        1\n",
              "dtype: int64"
            ]
          },
          "metadata": {
            "tags": []
          },
          "execution_count": 15
        }
      ]
    },
    {
      "cell_type": "code",
      "metadata": {
        "id": "LZtZsf-01tiT",
        "colab_type": "code",
        "colab": {
          "base_uri": "https://localhost:8080/",
          "height": 595
        },
        "outputId": "15fc21da-0049-499f-d975-5bc866eb942c"
      },
      "source": [
        "val.groupby(by = \"frames\").size()"
      ],
      "execution_count": 16,
      "outputs": [
        {
          "output_type": "execute_result",
          "data": {
            "text/plain": [
              "frames\n",
              "13       1\n",
              "14       1\n",
              "20       2\n",
              "21       2\n",
              "22       2\n",
              "23      13\n",
              "24      22\n",
              "25       1\n",
              "26       8\n",
              "27       3\n",
              "28      14\n",
              "29      23\n",
              "30      74\n",
              "31     120\n",
              "32     491\n",
              "33     822\n",
              "34     827\n",
              "35    1113\n",
              "36    3143\n",
              "37    7047\n",
              "38     933\n",
              "39      88\n",
              "40      15\n",
              "41       4\n",
              "42       7\n",
              "43       1\n",
              "44       4\n",
              "46       2\n",
              "49       1\n",
              "51       1\n",
              "65       1\n",
              "67       1\n",
              "dtype: int64"
            ]
          },
          "metadata": {
            "tags": []
          },
          "execution_count": 16
        }
      ]
    },
    {
      "cell_type": "code",
      "metadata": {
        "id": "DqhZ6RI013qg",
        "colab_type": "code",
        "colab": {
          "base_uri": "https://localhost:8080/",
          "height": 595
        },
        "outputId": "72d11413-62db-45b1-9175-5a1eda56e6c8"
      },
      "source": [
        "test.groupby(by = \"frames\").size()"
      ],
      "execution_count": 17,
      "outputs": [
        {
          "output_type": "execute_result",
          "data": {
            "text/plain": [
              "frames\n",
              "13       2\n",
              "14      10\n",
              "15       4\n",
              "16       7\n",
              "17       3\n",
              "18       2\n",
              "19       1\n",
              "21       5\n",
              "22       7\n",
              "23      28\n",
              "24      41\n",
              "25      16\n",
              "26       6\n",
              "27      14\n",
              "28      54\n",
              "29      33\n",
              "30      79\n",
              "31     176\n",
              "32     489\n",
              "33    1031\n",
              "34     854\n",
              "35    1040\n",
              "36    3003\n",
              "37    6981\n",
              "38     740\n",
              "39      86\n",
              "40      14\n",
              "42       4\n",
              "43       3\n",
              "44       4\n",
              "45       2\n",
              "46       4\n",
              "dtype: int64"
            ]
          },
          "metadata": {
            "tags": []
          },
          "execution_count": 17
        }
      ]
    },
    {
      "cell_type": "code",
      "metadata": {
        "id": "HoVa_nkk15LC",
        "colab_type": "code",
        "colab": {
          "base_uri": "https://localhost:8080/",
          "height": 299
        },
        "outputId": "0df10355-eeef-4179-e235-07736801c259"
      },
      "source": [
        "train.groupby(by = \"frames\").size().plot.bar()"
      ],
      "execution_count": 18,
      "outputs": [
        {
          "output_type": "execute_result",
          "data": {
            "text/plain": [
              "<matplotlib.axes._subplots.AxesSubplot at 0x7fe6221cfc50>"
            ]
          },
          "metadata": {
            "tags": []
          },
          "execution_count": 18
        },
        {
          "output_type": "display_data",
          "data": {
            "image/png": "[encoded data removed]",
            "text/plain": [
              "<Figure size 432x288 with 1 Axes>"
            ]
          },
          "metadata": {
            "tags": []
          }
        }
      ]
    },
    {
      "cell_type": "code",
      "metadata": {
        "id": "avQ2ukd44bxp",
        "colab_type": "code",
        "colab": {
          "base_uri": "https://localhost:8080/",
          "height": 299
        },
        "outputId": "c115f49f-ee01-44aa-a3a8-e29ee3d4996b"
      },
      "source": [
        "val.groupby(by = \"frames\").size().plot.bar()"
      ],
      "execution_count": 19,
      "outputs": [
        {
          "output_type": "execute_result",
          "data": {
            "text/plain": [
              "<matplotlib.axes._subplots.AxesSubplot at 0x7fe621bb7550>"
            ]
          },
          "metadata": {
            "tags": []
          },
          "execution_count": 19
        },
        {
          "output_type": "display_data",
          "data": {
            "image/png": "[encoded data removed]",
            "text/plain": [
              "<Figure size 432x288 with 1 Axes>"
            ]
          },
          "metadata": {
            "tags": []
          }
        }
      ]
    },
    {
      "cell_type": "code",
      "metadata": {
        "id": "ca1AZz9g4hyd",
        "colab_type": "code",
        "colab": {
          "base_uri": "https://localhost:8080/",
          "height": 299
        },
        "outputId": "fd8da1bc-5ebc-440d-dde6-6fb07e17fa82"
      },
      "source": [
        "test.groupby(by = \"frames\").size().plot.bar()"
      ],
      "execution_count": 20,
      "outputs": [
        {
          "output_type": "execute_result",
          "data": {
            "text/plain": [
              "<matplotlib.axes._subplots.AxesSubplot at 0x7fe621a4e630>"
            ]
          },
          "metadata": {
            "tags": []
          },
          "execution_count": 20
        },
        {
          "output_type": "display_data",
          "data": {
            "image/png": "[encoded data removed]",
            "text/plain": [
              "<Figure size 432x288 with 1 Axes>"
            ]
          },
          "metadata": {
            "tags": []
          }
        }
      ]
    },
    {
      "cell_type": "code",
      "metadata": {
        "id": "51SYVmzT9Mbj",
        "colab_type": "code",
        "colab": {
          "base_uri": "https://localhost:8080/",
          "height": 170
        },
        "outputId": "35451767-10e6-4214-ee4c-7f410c48303a"
      },
      "source": [
        "train.groupby(by = \"frames\").size().describe()"
      ],
      "execution_count": 21,
      "outputs": [
        {
          "output_type": "execute_result",
          "data": {
            "text/plain": [
              "count       47.000000\n",
              "mean      2522.595745\n",
              "std       8193.762351\n",
              "min          1.000000\n",
              "25%          3.500000\n",
              "50%         30.000000\n",
              "75%        351.500000\n",
              "max      50420.000000\n",
              "dtype: float64"
            ]
          },
          "metadata": {
            "tags": []
          },
          "execution_count": 21
        }
      ]
    },
    {
      "cell_type": "code",
      "metadata": {
        "id": "pm4XUrhr-aBO",
        "colab_type": "code",
        "colab": {
          "base_uri": "https://localhost:8080/",
          "height": 170
        },
        "outputId": "51326ea1-79c0-4a5a-8f9d-8bbc94c16a59"
      },
      "source": [
        "val.groupby(by = \"frames\").size().describe()"
      ],
      "execution_count": 22,
      "outputs": [
        {
          "output_type": "execute_result",
          "data": {
            "text/plain": [
              "count      32.000000\n",
              "mean      462.093750\n",
              "std      1349.372981\n",
              "min         1.000000\n",
              "25%         1.750000\n",
              "50%         7.500000\n",
              "75%        96.000000\n",
              "max      7047.000000\n",
              "dtype: float64"
            ]
          },
          "metadata": {
            "tags": []
          },
          "execution_count": 22
        }
      ]
    },
    {
      "cell_type": "code",
      "metadata": {
        "id": "ZEe0EEvg-elp",
        "colab_type": "code",
        "colab": {
          "base_uri": "https://localhost:8080/",
          "height": 170
        },
        "outputId": "3809dd8a-e576-425e-a088-59dfe5beec4f"
      },
      "source": [
        "test.groupby(by = \"frames\").size().describe()"
      ],
      "execution_count": 23,
      "outputs": [
        {
          "output_type": "execute_result",
          "data": {
            "text/plain": [
              "count      32.000000\n",
              "mean      460.718750\n",
              "std      1328.019098\n",
              "min         1.000000\n",
              "25%         4.000000\n",
              "50%        14.000000\n",
              "75%       108.500000\n",
              "max      6981.000000\n",
              "dtype: float64"
            ]
          },
          "metadata": {
            "tags": []
          },
          "execution_count": 23
        }
      ]
    },
    {
      "cell_type": "code",
      "metadata": {
        "id": "aF2djkvC-hak",
        "colab_type": "code",
        "colab": {}
      },
      "source": [
        ""
      ],
      "execution_count": 0,
      "outputs": []
    }
  ]
}