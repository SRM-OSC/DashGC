{
 "cells": [
  {
   "cell_type": "markdown",
   "metadata": {
    "colab_type": "text",
    "id": "aHaW9zzgq2qI"
   },
   "source": [
    "## Retrieving the Dataset\n",
    "1. Change runtime type to `Python 3 with GPU`\n",
    "2. Authorize the notebook to mount your Google Drive\n",
    "3. Decompress the Dataset onto the local disk (Ephemeral Storage of the provisioned Google Colab VM)"
   ]
  },
  {
   "cell_type": "code",
   "execution_count": null,
   "metadata": {
    "colab": {},
    "colab_type": "code",
    "id": "fB3365Zwq2qJ"
   },
   "outputs": [],
   "source": [
    "# Make necessary imports\n",
    "import csv\n",
    "import os\n",
    "import shutil\n",
    "import time"
   ]
  },
  {
   "cell_type": "code",
   "execution_count": null,
   "metadata": {
    "colab": {
     "base_uri": "https://localhost:8080/",
     "height": 122
    },
    "colab_type": "code",
    "id": "FU0dwMlUq2qO",
    "outputId": "f1f6c459-d2ff-472e-cc81-9727a4e7927a"
   },
   "outputs": [],
   "source": [
    "# Mount Google Drive\n",
    "\n",
    "from google.colab import drive\n",
    "drive.mount('/content/gdrive')"
   ]
  },
  {
   "cell_type": "code",
   "execution_count": null,
   "metadata": {
    "colab": {},
    "colab_type": "code",
    "id": "m6IqF5kiq2qR"
   },
   "outputs": [],
   "source": [
    "# Decompress the compressed \"Jester\" dataset in Google Colab VM\n",
    "\n",
    "start = time.time()\n",
    "!cat /content/gdrive/My\\ Drive/DashGC/Original/20bn-jester-v1-?? | tar -zx\n",
    "stop = time.time()\n",
    "print('Decompression took', round(((stop - start) / 60), 2), 'mins')"
   ]
  },
  {
   "cell_type": "code",
   "execution_count": null,
   "metadata": {
    "colab": {},
    "colab_type": "code",
    "id": "1l_zX7xWq2qV"
   },
   "outputs": [],
   "source": [
    "# Print the total number of sub-directories in the decompressed dataset.\n",
    "print(os.getcwd())\n",
    "dirs = os.listdir('20bn-jester-v1')\n",
    "print(len(dirs))\n",
    "\n",
    "# Find and print the maximum and minimum number of images for a video in the entire dataset.\n",
    "directories = {dir: len(os.listdir('20bn-jester-v1/' + dir))\n",
    "               for dir in dirs}\n",
    "print(len(directories.keys()))\n",
    "print(min(directories.values()), max(directories.values()))"
   ]
  },
  {
   "cell_type": "code",
   "execution_count": null,
   "metadata": {
    "colab": {},
    "colab_type": "code",
    "id": "xinzUGrqq2qZ"
   },
   "outputs": [],
   "source": [
    "def copier(filedir, lastfile):\n",
    "    '''\n",
    "    Copy the image multiple times.\n",
    "    filedir: path to directory\n",
    "    lastfile: file to duplicate within the filedir directory\n",
    "    '''\n",
    "    \n",
    "    # Read the data from the last image file\n",
    "    with open('20bn-jester-v1/' + filedir + '/' + lastfile, 'rb') as mainfile:\n",
    "        data = mainfile.read()\n",
    "    \n",
    "    # Convert last file's filename to an integer and iterate till 70.\n",
    "    # Keep creating files and copy the data of the main file.\n",
    "    # length of the filename is 5 characters, like \"00005\" + the extension \".jpg\".\n",
    "    last = int(lastfile[0:-4])\n",
    "    while last < 70:\n",
    "        last += 1\n",
    "        new = str(last)\n",
    "        fname = ('0' * (5 - len(new))) + new + '.jpg'\n",
    "        with open('20bn-jester-v1/' + filedir + '/' + fname, 'wb') as file:\n",
    "            file.write(data)"
   ]
  },
  {
   "cell_type": "code",
   "execution_count": null,
   "metadata": {
    "colab": {},
    "colab_type": "code",
    "id": "czLUGqu1q2qd"
   },
   "outputs": [],
   "source": [
    "# The goal is to have 70 images in every sub-directory.\n",
    "# If a sub-directory has less than 70 images then copy the last image (70 - n) times, where n is the\n",
    "# number of images in that sub-directory.\n",
    "# If the last file was \"00005.jpg\", then subsequent copies of \"00005.jpg\" will be \"00006.jpg\" upto\n",
    "# \"00070.jpg\".\n",
    "\n",
    "tic = time.time()\n",
    "for dir in dirs:\n",
    "    count = len(os.listdir('20bn-jester-v1/' + dir))\n",
    "    chars = 1 if count < 10 else 2\n",
    "    lastfile = '0' * (5 - chars) + str(count) + '.jpg'\n",
    "    copier(dir, lastfile)\n",
    "toc = time.time()\n",
    "print('Created duplicates in', round(((toc - tic) / 60), 2), 'mins')\n",
    "\n",
    "# After executing this verify that all sub-directories have 70 images by executing 4th code cell."
   ]
  },
  {
   "cell_type": "code",
   "execution_count": null,
   "metadata": {
    "colab": {},
    "colab_type": "code",
    "id": "ZmNJW046q2qg"
   },
   "outputs": [],
   "source": [
    "def organise_dataset(csvfile, mode, srcdir = './20bn-jester-v1/'):\n",
    "    '''Organize dataset for Training and/or Validation'''\n",
    "    # Read the csv file and find folders associated with specific gestures.\n",
    "    # Display the number of labels (gestures) and number of folders for each gesture.\n",
    "    with open(csvfile, newline = '\\n') as cf:\n",
    "        reader = csv.reader(cf, delimiter=';')\n",
    "        filetree = {}\n",
    "        for row in reader:\n",
    "            #print(row)\n",
    "            if row[1] not in filetree.keys():\n",
    "                filetree[row[1]] = []\n",
    "            filetree[row[1]].append(row[0])\n",
    "        print('Number of labels (subdirectories)', len(filetree.keys()))\n",
    "\n",
    "        # Display the minimum and maximum sample size\n",
    "        ln = []\n",
    "        accumulator = []\n",
    "        print('Number of samples for particular label')\n",
    "        for label in filetree.keys():\n",
    "            accumulator.append(sum(list(map(lambda x: len(os.listdir(srcdir + x)), filetree[label]))))\n",
    "            print(f'{label}: Videos {len(filetree[label])} Frames {accumulator[-1]}')\n",
    "            ln.append(len(filetree[label]))\n",
    "        print(f'minimum samples: {min(ln)}, maximum samples: {max(ln)}, total frames: {sum(accumulator)}')\n",
    "\n",
    "    # Create approprite path\n",
    "    if not os.path.exists('./Dataset'):\n",
    "        os.mkdir('./Dataset')\n",
    "\n",
    "    if mode in ['train', 'Train', 'training', 'Training']:\n",
    "        path = './Dataset/Train'\n",
    "    elif mode in ['validation', 'Validation']:\n",
    "        path = './Dataset/Validation'\n",
    "\n",
    "    os.mkdir(path)\n",
    "    path += '/'\n",
    "\n",
    "    # Copy the folders containing samples under their respective labels\n",
    "    print('Number of copied samples for particular label')\n",
    "\n",
    "    # Iterate over every label\n",
    "    for label in filetree.keys():\n",
    "        os.mkdir(path + label)\n",
    "\n",
    "        # Create blank folders for every folder in that label\n",
    "        for folder in filetree[label]:\n",
    "            os.mkdir(path + label + '/' + folder)\n",
    "\n",
    "            # Copy the sample data into that blank folder\n",
    "            for f in os.listdir(srcdir + folder):\n",
    "                shutil.copy2(srcdir + folder + '/' + f, path + label + '/' + folder)\n",
    "\n",
    "        # Show the number of samples for each label\n",
    "        print(label, len(os.listdir(path + label)), sum([len(os.listdir(path + label + '/' + i)) for i in os.listdir(path + label)]))"
   ]
  },
  {
   "cell_type": "code",
   "execution_count": null,
   "metadata": {
    "colab": {},
    "colab_type": "code",
    "id": "L36blYJCq2qk"
   },
   "outputs": [],
   "source": [
    "# Organize the training data\n",
    "\n",
    "tic = time.time()\n",
    "organise_dataset('/content/gdrive/My Drive/DashGC/Original/jester-v1-train.csv', 'Train')\n",
    "toc = time.time()\n",
    "print('Training Dataset organised in ', round(((toc - tic) / 60), 2), 'mins')"
   ]
  },
  {
   "cell_type": "code",
   "execution_count": null,
   "metadata": {
    "colab": {},
    "colab_type": "code",
    "id": "NEnTE2bgq2qn"
   },
   "outputs": [],
   "source": [
    "# Organize the validation data\n",
    "\n",
    "tic = time.time()\n",
    "organise_dataset('/content/gdrive/My Drive/DashGC/Original/jester-v1-validation.csv', 'Validation')\n",
    "toc = time.time()\n",
    "print('Validation Dataset organised in ', round(((toc - tic) / 60), 2), 'mins')"
   ]
  },
  {
   "cell_type": "code",
   "execution_count": null,
   "metadata": {
    "colab": {},
    "colab_type": "code",
    "id": "DoOsVl_crmCO"
   },
   "outputs": [],
   "source": [
    "# Compress the reorganized Dataset\n",
    "\n",
    "start = time.time()\n",
    "!tar czf - ./Dataset/ | split --bytes=2048MB - Dataset.tar.gz.\n",
    "stop = time.time()\n",
    "print('Compression took', round(((stop - start) / 60), 2), 'mins')"
   ]
  },
  {
   "cell_type": "code",
   "execution_count": null,
   "metadata": {
    "colab": {},
    "colab_type": "code",
    "id": "L-hl9H1OPADr"
   },
   "outputs": [],
   "source": [
    "# Copy the Compressed volumes of Dataset to Google drive\n",
    "\n",
    "start = time.time()\n",
    "!cp ./Dataset.tar.gz.* \"/content/gdrive/My Drive/DashGC/Reorganized/\"\n",
    "stop = time.time()\n",
    "print('Copying took', round(((stop - start) / 60), 2), 'mins')"
   ]
  }
 ],
 "metadata": {
  "accelerator": "GPU",
  "colab": {
   "collapsed_sections": [],
   "name": "Training.ipynb",
   "provenance": [],
   "version": "0.3.2"
  },
  "kernelspec": {
   "display_name": "Python 3",
   "language": "python",
   "name": "python3"
  },
  "language_info": {
   "codemirror_mode": {
    "name": "ipython",
    "version": 3
   },
   "file_extension": ".py",
   "mimetype": "text/x-python",
   "name": "python",
   "nbconvert_exporter": "python",
   "pygments_lexer": "ipython3",
   "version": "3.7.3"
  }
 },
 "nbformat": 4,
 "nbformat_minor": 1
}
