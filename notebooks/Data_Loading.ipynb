{
  "nbformat": 4,
  "nbformat_minor": 0,
  "metadata": {
    "colab": {
      "name": "Data_Loading.ipynb",
      "version": "0.3.2",
      "provenance": [],
      "collapsed_sections": []
    },
    "kernelspec": {
      "name": "python3",
      "display_name": "Python 3"
    },
    "accelerator": "GPU"
  },
  "cells": [
    {
      "cell_type": "code",
      "metadata": {
        "id": "vkgIcoF_w0cl",
        "colab_type": "code",
        "outputId": "825a95f1-ff45-4a3c-db51-050a2cb1feac",
        "colab": {
          "base_uri": "https://localhost:8080/",
          "height": 68
        }
      },
      "source": [
        "!pip install -q tensorflow-gpu==2.0.0-rc1"
      ],
      "execution_count": 1,
      "outputs": [
        {
          "output_type": "stream",
          "text": [
            "\u001b[K     |████████████████████████████████| 380.5MB 75kB/s \n",
            "\u001b[K     |████████████████████████████████| 501kB 53.8MB/s \n",
            "\u001b[K     |████████████████████████████████| 4.3MB 59.5MB/s \n",
            "\u001b[?25h"
          ],
          "name": "stdout"
        }
      ]
    },
    {
      "cell_type": "code",
      "metadata": {
        "id": "EbzSrRPgwkU6",
        "colab_type": "code",
        "colab": {}
      },
      "source": [
        "import os\n",
        "import time\n",
        "import tensorflow as tf"
      ],
      "execution_count": 0,
      "outputs": []
    },
    {
      "cell_type": "code",
      "metadata": {
        "id": "9Own88fXwxNb",
        "colab_type": "code",
        "outputId": "23497d12-9126-4d3d-c581-ff8501a65e09",
        "colab": {
          "base_uri": "https://localhost:8080/",
          "height": 122
        }
      },
      "source": [
        "from google.colab import drive\n",
        "drive.mount('/content/gdrive')"
      ],
      "execution_count": 3,
      "outputs": [
        {
          "output_type": "stream",
          "text": [
            "Go to this URL in a browser: https://accounts.google.com/o/oauth2/auth?client_id=947318989803-6bn6qk8qdgf4n4g3pfee6491hc0brc4i.apps.googleusercontent.com&redirect_uri=urn%3Aietf%3Awg%3Aoauth%3A2.0%3Aoob&scope=email%20https%3A%2F%2Fwww.googleapis.com%2Fauth%2Fdocs.test%20https%3A%2F%2Fwww.googleapis.com%2Fauth%2Fdrive%20https%3A%2F%2Fwww.googleapis.com%2Fauth%2Fdrive.photos.readonly%20https%3A%2F%2Fwww.googleapis.com%2Fauth%2Fpeopleapi.readonly&response_type=code\n",
            "\n",
            "Enter your authorization code:\n",
            "··········\n",
            "Mounted at /content/gdrive\n"
          ],
          "name": "stdout"
        }
      ]
    },
    {
      "cell_type": "code",
      "metadata": {
        "id": "J36Pm67Qw_Vb",
        "colab_type": "code",
        "outputId": "a6345207-2588-465b-b8a3-1024c67efb73",
        "colab": {
          "base_uri": "https://localhost:8080/",
          "height": 34
        }
      },
      "source": [
        "# Decompress the compressed reorganized \"Jester\" dataset in Google Colab VM\n",
        "\n",
        "start = time.time()\n",
        "!cat /content/gdrive/My\\ Drive/DashGC/Reorganized/Dataset.tar.gz.?? | tar -xz\n",
        "stop = time.time()\n",
        "print('Decompression took', round(((stop - start) / 60), 2), 'mins')"
      ],
      "execution_count": 4,
      "outputs": [
        {
          "output_type": "stream",
          "text": [
            "Decompression took 9.27 mins\n"
          ],
          "name": "stdout"
        }
      ]
    },
    {
      "cell_type": "code",
      "metadata": {
        "colab_type": "code",
        "id": "mIdR9HroYZNs",
        "colab": {}
      },
      "source": [
        "AUTOTUNE = tf.data.experimental.AUTOTUNE"
      ],
      "execution_count": 0,
      "outputs": []
    },
    {
      "cell_type": "code",
      "metadata": {
        "id": "gDDF8T3gwhhi",
        "colab_type": "code",
        "outputId": "7f875885-4711-4615-b3e7-8fbce994d240",
        "colab": {
          "base_uri": "https://localhost:8080/",
          "height": 51
        }
      },
      "source": [
        "import pathlib\n",
        "train_data_root_orig = \"./Dataset/Train\"\n",
        "train_data_root = pathlib.Path(train_data_root_orig)\n",
        "print(train_data_root)\n",
        "\n",
        "val_data_root_orig = \"./Dataset/Validation\"\n",
        "val_data_root = pathlib.Path(val_data_root_orig)\n",
        "print(val_data_root)"
      ],
      "execution_count": 5,
      "outputs": [
        {
          "output_type": "stream",
          "text": [
            "Dataset/Train\n",
            "Dataset/Validation\n"
          ],
          "name": "stdout"
        }
      ]
    },
    {
      "cell_type": "code",
      "metadata": {
        "id": "GDwh-dAOwtOX",
        "colab_type": "code",
        "outputId": "74e7da7a-f4ba-4c82-f0e1-bfb267894481",
        "colab": {
          "base_uri": "https://localhost:8080/",
          "height": 476
        }
      },
      "source": [
        "for item in val_data_root.iterdir():\n",
        "    print(item)"
      ],
      "execution_count": 6,
      "outputs": [
        {
          "output_type": "stream",
          "text": [
            "Dataset/Validation/Pushing Hand Away\n",
            "Dataset/Validation/Sliding Two Fingers Down\n",
            "Dataset/Validation/Sliding Two Fingers Right\n",
            "Dataset/Validation/Swiping Left\n",
            "Dataset/Validation/Doing other things\n",
            "Dataset/Validation/Shaking Hand\n",
            "Dataset/Validation/Swiping Down\n",
            "Dataset/Validation/Thumb Up\n",
            "Dataset/Validation/Turning Hand Counterclockwise\n",
            "Dataset/Validation/Zooming Out With Two Fingers\n",
            "Dataset/Validation/Stop Sign\n",
            "Dataset/Validation/Swiping Up\n",
            "Dataset/Validation/Sliding Two Fingers Up\n",
            "Dataset/Validation/No gesture\n",
            "Dataset/Validation/Rolling Hand Forward\n",
            "Dataset/Validation/Zooming In With Two Fingers\n",
            "Dataset/Validation/Turning Hand Clockwise\n",
            "Dataset/Validation/Zooming Out With Full Hand\n",
            "Dataset/Validation/Drumming Fingers\n",
            "Dataset/Validation/Pulling Hand In\n",
            "Dataset/Validation/Thumb Down\n",
            "Dataset/Validation/Pushing Two Fingers Away\n",
            "Dataset/Validation/Rolling Hand Backward\n",
            "Dataset/Validation/Sliding Two Fingers Left\n",
            "Dataset/Validation/Pulling Two Fingers In\n",
            "Dataset/Validation/Zooming In With Full Hand\n",
            "Dataset/Validation/Swiping Right\n"
          ],
          "name": "stdout"
        }
      ]
    },
    {
      "cell_type": "code",
      "metadata": {
        "id": "MHqFz84PyfW0",
        "colab_type": "code",
        "outputId": "f2873de5-b978-493d-e77f-8869a743315a",
        "colab": {
          "base_uri": "https://localhost:8080/",
          "height": 51
        }
      },
      "source": [
        "val_image_paths = list(val_data_root.glob('*/*/*'))\n",
        "val_image_paths = [str(path) for path in val_image_paths]\n",
        "val_image_paths.sort(key = lambda x: (int(str(x).split('/')[-1][:-5]), int(str(x).split('/')[-2])))\n",
        "\n",
        "train_image_paths = list(train_data_root.glob('*/*/*'))\n",
        "train_image_paths = [str(path) for path in train_image_paths]\n",
        "train_image_paths.sort(key = lambda x: (int(str(x).split('/')[-1][:-5]), int(str(x).split('/')[-2])))\n",
        "\n",
        "val_image_count = len(val_image_paths)\n",
        "print(val_image_count)\n",
        "\n",
        "train_image_count = len(train_image_paths)\n",
        "print(train_image_count)"
      ],
      "execution_count": 10,
      "outputs": [
        {
          "output_type": "stream",
          "text": [
            "532578\n",
            "4219150\n"
          ],
          "name": "stdout"
        }
      ]
    },
    {
      "cell_type": "code",
      "metadata": {
        "id": "fhxeZRbwy7Si",
        "colab_type": "code",
        "outputId": "f5f8be79-8eb9-4f06-d4a8-6c967286501b",
        "colab": {
          "base_uri": "https://localhost:8080/",
          "height": 71
        }
      },
      "source": [
        "print(val_image_paths[:10])\n",
        "print(train_image_paths[:10])"
      ],
      "execution_count": 14,
      "outputs": [
        {
          "output_type": "stream",
          "text": [
            "['Dataset/Validation/Thumb Down/16/00003.jpg', 'Dataset/Validation/Thumb Down/16/00002.jpg', 'Dataset/Validation/Thumb Down/16/00001.jpg', 'Dataset/Validation/Thumb Down/16/00008.jpg', 'Dataset/Validation/Thumb Down/16/00005.jpg', 'Dataset/Validation/Thumb Down/16/00007.jpg', 'Dataset/Validation/Thumb Down/16/00006.jpg', 'Dataset/Validation/Thumb Down/16/00004.jpg', 'Dataset/Validation/Thumb Down/16/00009.jpg', 'Dataset/Validation/Zooming In With Full Hand/22/00003.jpg']\n",
            "['Dataset/Train/Doing other things/1/00003.jpg', 'Dataset/Train/Doing other things/1/00002.jpg', 'Dataset/Train/Doing other things/1/00001.jpg', 'Dataset/Train/Doing other things/1/00008.jpg', 'Dataset/Train/Doing other things/1/00005.jpg', 'Dataset/Train/Doing other things/1/00007.jpg', 'Dataset/Train/Doing other things/1/00006.jpg', 'Dataset/Train/Doing other things/1/00004.jpg', 'Dataset/Train/Doing other things/1/00009.jpg', 'Dataset/Train/Pushing Two Fingers Away/3/00003.jpg']\n"
          ],
          "name": "stdout"
        }
      ]
    },
    {
      "cell_type": "code",
      "metadata": {
        "id": "DdKPVsXUzcqa",
        "colab_type": "code",
        "outputId": "c4a7caa8-65de-4c40-ba12-5b0a87cf7a57",
        "colab": {
          "base_uri": "https://localhost:8080/",
          "height": 476
        }
      },
      "source": [
        "label_names = sorted(item.name for item in train_data_root.glob('*/') if item.is_dir())\n",
        "label_names"
      ],
      "execution_count": 15,
      "outputs": [
        {
          "output_type": "execute_result",
          "data": {
            "text/plain": [
              "['Doing other things',\n",
              " 'Drumming Fingers',\n",
              " 'No gesture',\n",
              " 'Pulling Hand In',\n",
              " 'Pulling Two Fingers In',\n",
              " 'Pushing Hand Away',\n",
              " 'Pushing Two Fingers Away',\n",
              " 'Rolling Hand Backward',\n",
              " 'Rolling Hand Forward',\n",
              " 'Shaking Hand',\n",
              " 'Sliding Two Fingers Down',\n",
              " 'Sliding Two Fingers Left',\n",
              " 'Sliding Two Fingers Right',\n",
              " 'Sliding Two Fingers Up',\n",
              " 'Stop Sign',\n",
              " 'Swiping Down',\n",
              " 'Swiping Left',\n",
              " 'Swiping Right',\n",
              " 'Swiping Up',\n",
              " 'Thumb Down',\n",
              " 'Thumb Up',\n",
              " 'Turning Hand Clockwise',\n",
              " 'Turning Hand Counterclockwise',\n",
              " 'Zooming In With Full Hand',\n",
              " 'Zooming In With Two Fingers',\n",
              " 'Zooming Out With Full Hand',\n",
              " 'Zooming Out With Two Fingers']"
            ]
          },
          "metadata": {
            "tags": []
          },
          "execution_count": 15
        }
      ]
    },
    {
      "cell_type": "code",
      "metadata": {
        "id": "afTtlWv_0D37",
        "colab_type": "code",
        "outputId": "1ddfb203-5a17-4f58-a568-c72f311500b4",
        "colab": {
          "base_uri": "https://localhost:8080/",
          "height": 476
        }
      },
      "source": [
        "label_to_index = {name: index for index, name in enumerate(label_names)}\n",
        "label_to_index"
      ],
      "execution_count": 16,
      "outputs": [
        {
          "output_type": "execute_result",
          "data": {
            "text/plain": [
              "{'Doing other things': 0,\n",
              " 'Drumming Fingers': 1,\n",
              " 'No gesture': 2,\n",
              " 'Pulling Hand In': 3,\n",
              " 'Pulling Two Fingers In': 4,\n",
              " 'Pushing Hand Away': 5,\n",
              " 'Pushing Two Fingers Away': 6,\n",
              " 'Rolling Hand Backward': 7,\n",
              " 'Rolling Hand Forward': 8,\n",
              " 'Shaking Hand': 9,\n",
              " 'Sliding Two Fingers Down': 10,\n",
              " 'Sliding Two Fingers Left': 11,\n",
              " 'Sliding Two Fingers Right': 12,\n",
              " 'Sliding Two Fingers Up': 13,\n",
              " 'Stop Sign': 14,\n",
              " 'Swiping Down': 15,\n",
              " 'Swiping Left': 16,\n",
              " 'Swiping Right': 17,\n",
              " 'Swiping Up': 18,\n",
              " 'Thumb Down': 19,\n",
              " 'Thumb Up': 20,\n",
              " 'Turning Hand Clockwise': 21,\n",
              " 'Turning Hand Counterclockwise': 22,\n",
              " 'Zooming In With Full Hand': 23,\n",
              " 'Zooming In With Two Fingers': 24,\n",
              " 'Zooming Out With Full Hand': 25,\n",
              " 'Zooming Out With Two Fingers': 26}"
            ]
          },
          "metadata": {
            "tags": []
          },
          "execution_count": 16
        }
      ]
    },
    {
      "cell_type": "code",
      "metadata": {
        "id": "7RLEjldO0H3Y",
        "colab_type": "code",
        "outputId": "5d4e55c0-606e-44b4-e2bd-b8eefe7fc4cc",
        "colab": {
          "base_uri": "https://localhost:8080/",
          "height": 34
        }
      },
      "source": [
        "train_image_labels = [label_to_index[pathlib.Path(path).parent.parent.name]\n",
        "                    for path in train_image_paths]\n",
        "\n",
        "val_image_labels = [label_to_index[pathlib.Path(path).parent.parent.name]\n",
        "                    for path in val_image_paths]\n",
        "\n",
        "print(\"First 10 labels indices: \", train_image_labels[:10])"
      ],
      "execution_count": 17,
      "outputs": [
        {
          "output_type": "stream",
          "text": [
            "First 10 labels indices:  [0, 0, 0, 0, 0, 0, 0, 0, 0, 6]\n"
          ],
          "name": "stdout"
        }
      ]
    },
    {
      "cell_type": "code",
      "metadata": {
        "id": "SIg6Y6bD1SO5",
        "colab_type": "code",
        "colab": {}
      },
      "source": [
        "start = time.time()\n",
        "print(min([tf.image.decode_image(tf.io.read_file(img_path)).shape[0] for img_path in train_image_paths]), max([tf.image.decode_image(tf.io.read_file(img_path)).shape[0] for img_path in train_image_paths]))\n",
        "print(min([tf.image.decode_image(tf.io.read_file(img_path)).shape[0] for img_path in val_image_paths]), max([tf.image.decode_image(tf.io.read_file(img_path)).shape[0] for img_path in val_image_paths]))\n",
        "print(min([tf.image.decode_image(tf.io.read_file(img_path)).shape[1] for img_path in train_image_paths]), max([tf.image.decode_image(tf.io.read_file(img_path)).shape[1] for img_path in train_image_paths]))\n",
        "print(min([tf.image.decode_image(tf.io.read_file(img_path)).shape[1] for img_path in val_image_paths]), max([tf.image.decode_image(tf.io.read_file(img_path)).shape[1] for img_path in val_image_paths]))\n",
        "stop = time.time()\n",
        "print('Decompression took', round(((stop - start) / 60), 2), 'mins')"
      ],
      "execution_count": 0,
      "outputs": []
    },
    {
      "cell_type": "code",
      "metadata": {
        "id": "n7eKLe442gSz",
        "colab_type": "code",
        "outputId": "567dee77-0f08-4ea8-e009-4dff34857b1e",
        "colab": {
          "base_uri": "https://localhost:8080/",
          "height": 34
        }
      },
      "source": [
        "print(set(map(lambda x: x[-4:], train_image_paths)), set(map(lambda x: x[-4:], val_image_paths)))"
      ],
      "execution_count": 19,
      "outputs": [
        {
          "output_type": "stream",
          "text": [
            "{'.jpg'} {'.jpg'}\n"
          ],
          "name": "stdout"
        }
      ]
    },
    {
      "cell_type": "code",
      "metadata": {
        "id": "jZcBW-WxGk4O",
        "colab_type": "code",
        "colab": {}
      },
      "source": [
        "# Decode the video frames as int64 values of color & recast it as float32\n",
        "# Resize the video frames into a standard size (100, 100, channels = 3)\n",
        "\n",
        "#@tf.function\n",
        "def preprocess_image(image):\n",
        "    # img_raw = tf.io.read_file(img_path)\n",
        "    # img_tensor = tf.image.decode_image(img_raw)\n",
        "    image = tf.image.decode_jpeg(image, channels=3)\n",
        "    image = tf.image.resize(image, [100, 100])\n",
        "    image /= 255.0  # normalize to [0,1] range\n",
        "    return image\n",
        "\n",
        "def load_and_preprocess_image(path):\n",
        "    image = tf.io.read_file(path)\n",
        "    return preprocess_image(image)\n",
        "\n",
        "def load_and_preprocess_from_path_label(path, label):\n",
        "    return load_and_preprocess_image(path), label"
      ],
      "execution_count": 0,
      "outputs": []
    },
    {
      "cell_type": "code",
      "metadata": {
        "id": "pF9WxUGm2VIQ",
        "colab_type": "code",
        "colab": {}
      },
      "source": [
        "# Load the images as tensors (numpy-like multidimensional arrays)\n",
        "\n",
        "train_path_ds = tf.data.Dataset.from_tensor_slices(train_image_paths)\n",
        "train_image_ds = train_path_ds.map(load_and_preprocess_image, num_parallel_calls=AUTOTUNE)\n",
        "\n",
        "val_path_ds = tf.data.Dataset.from_tensor_slices(val_image_paths)\n",
        "val_image_ds = val_path_ds.map(load_and_preprocess_image, num_parallel_calls=AUTOTUNE)"
      ],
      "execution_count": 0,
      "outputs": []
    },
    {
      "cell_type": "code",
      "metadata": {
        "id": "oNtddPIy_MQU",
        "colab_type": "code",
        "colab": {}
      },
      "source": [
        "train_label_ds = tf.data.Dataset.from_tensor_slices(tf.cast(train_image_labels, tf.int64))\n",
        "val_label_ds = tf.data.Dataset.from_tensor_slices(tf.cast(val_image_labels, tf.int64))\n",
        "\n",
        "train_image_label_ds = tf.data.Dataset.zip((train_image_ds, train_label_ds))\n",
        "val_image_label_ds = tf.data.Dataset.zip((val_image_ds, val_label_ds))"
      ],
      "execution_count": 0,
      "outputs": []
    },
    {
      "cell_type": "code",
      "metadata": {
        "id": "__7-bOnecgaF",
        "colab_type": "code",
        "colab": {}
      },
      "source": [
        "tf.Keras.Layers.Input(shape = (70, 70, 3), sparse = True)"
      ],
      "execution_count": 0,
      "outputs": []
    },
    {
      "cell_type": "code",
      "metadata": {
        "id": "lnSiQ4VM1a5E",
        "colab_type": "code",
        "colab": {}
      },
      "source": [
        "tf.ragged.constant()"
      ],
      "execution_count": 0,
      "outputs": []
    },
    {
      "cell_type": "code",
      "metadata": {
        "id": "K-rXLr6-GbQz",
        "colab_type": "code",
        "colab": {}
      },
      "source": [
        "img_raw = tf.io.read_file(img_path)\n",
        "img_tensor = tf.image.decode_image(img_raw)\n",
        "\n",
        "print(img_tensor.shape)\n",
        "print(img_tensor.dtype)\n",
        "\n",
        "img_final = tf.image.resize(img_tensor, [100, 100])\n",
        "img_final = img_final/255.0\n",
        "print(img_final.shape)\n",
        "print(img_final.numpy().min())\n",
        "print(img_final.numpy().max())"
      ],
      "execution_count": 0,
      "outputs": []
    }
  ]
}