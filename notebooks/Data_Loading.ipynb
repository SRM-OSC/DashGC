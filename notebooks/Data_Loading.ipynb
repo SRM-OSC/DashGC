{
 "cells": [
  {
   "cell_type": "code",
   "execution_count": 1,
   "metadata": {
    "colab": {
     "base_uri": "https://localhost:8080/",
     "height": 68
    },
    "colab_type": "code",
    "id": "vkgIcoF_w0cl",
    "outputId": "fb6a9abf-6090-4ef5-a96d-ab494395dfb6"
   },
   "outputs": [
    {
     "name": "stdout",
     "output_type": "stream",
     "text": [
      "\u001b[K     |████████████████████████████████| 348.9MB 82kB/s \n",
      "\u001b[K     |████████████████████████████████| 501kB 41.3MB/s \n",
      "\u001b[K     |████████████████████████████████| 3.1MB 30.3MB/s \n",
      "\u001b[?25h"
     ]
    }
   ],
   "source": [
    "!pip install -q tensorflow-gpu==2.0.0-beta1"
   ]
  },
  {
   "cell_type": "code",
   "execution_count": 0,
   "metadata": {
    "colab": {},
    "colab_type": "code",
    "id": "EbzSrRPgwkU6"
   },
   "outputs": [],
   "source": [
    "import os\n",
    "import time\n",
    "import tensorflow as tf"
   ]
  },
  {
   "cell_type": "code",
   "execution_count": 3,
   "metadata": {
    "colab": {
     "base_uri": "https://localhost:8080/",
     "height": 122
    },
    "colab_type": "code",
    "id": "9Own88fXwxNb",
    "outputId": "6f854213-5a2c-4ed0-ba44-2871819e3380"
   },
   "outputs": [
    {
     "name": "stdout",
     "output_type": "stream",
     "text": [
      "Go to this URL in a browser: https://accounts.google.com/o/oauth2/auth?client_id=947318989803-6bn6qk8qdgf4n4g3pfee6491hc0brc4i.apps.googleusercontent.com&redirect_uri=urn%3Aietf%3Awg%3Aoauth%3A2.0%3Aoob&scope=email%20https%3A%2F%2Fwww.googleapis.com%2Fauth%2Fdocs.test%20https%3A%2F%2Fwww.googleapis.com%2Fauth%2Fdrive%20https%3A%2F%2Fwww.googleapis.com%2Fauth%2Fdrive.photos.readonly%20https%3A%2F%2Fwww.googleapis.com%2Fauth%2Fpeopleapi.readonly&response_type=code\n",
      "\n",
      "Enter your authorization code:\n",
      "··········\n",
      "Mounted at /content/gdrive\n"
     ]
    }
   ],
   "source": [
    "from google.colab import drive\n",
    "drive.mount('/content/gdrive')"
   ]
  },
  {
   "cell_type": "code",
   "execution_count": 4,
   "metadata": {
    "colab": {
     "base_uri": "https://localhost:8080/",
     "height": 34
    },
    "colab_type": "code",
    "id": "J36Pm67Qw_Vb",
    "outputId": "f7b7eec8-3e14-48e6-e9f9-fb7c9e3e425d"
   },
   "outputs": [
    {
     "name": "stdout",
     "output_type": "stream",
     "text": [
      "Decompression took 11.83 mins\n"
     ]
    }
   ],
   "source": [
    "# Decompress the compressed reorganized \"Jester\" dataset in Google Colab VM\n",
    "\n",
    "start = time.time()\n",
    "!cat /content/gdrive/My\\ Drive/DashGC/Reorganized/Dataset.tar.gz.?? | tar -xz\n",
    "stop = time.time()\n",
    "print('Decompression took', round(((stop - start) / 60), 2), 'mins')"
   ]
  },
  {
   "cell_type": "code",
   "execution_count": 0,
   "metadata": {
    "colab": {},
    "colab_type": "code",
    "id": "uZ8JJoUhvzoq"
   },
   "outputs": [],
   "source": [
    "AUTOTUNE = tf.data.experimental.AUTOTUNE"
   ]
  },
  {
   "cell_type": "code",
   "execution_count": 15,
   "metadata": {
    "colab": {
     "base_uri": "https://localhost:8080/",
     "height": 51
    },
    "colab_type": "code",
    "id": "gDDF8T3gwhhi",
    "outputId": "795aa43f-737a-471a-ac57-676d6667506c"
   },
   "outputs": [
    {
     "name": "stdout",
     "output_type": "stream",
     "text": [
      "Dataset/Train\n",
      "Dataset/Validation\n"
     ]
    }
   ],
   "source": [
    "import pathlib\n",
    "train_data_root_orig = \"./Dataset/Train\"\n",
    "train_data_root = pathlib.Path(train_data_root_orig)\n",
    "print(train_data_root)\n",
    "\n",
    "val_data_root_orig = \"./Dataset/Validation\"\n",
    "val_data_root = pathlib.Path(val_data_root_orig)\n",
    "print(val_data_root)"
   ]
  },
  {
   "cell_type": "code",
   "execution_count": 16,
   "metadata": {
    "colab": {
     "base_uri": "https://localhost:8080/",
     "height": 476
    },
    "colab_type": "code",
    "id": "GDwh-dAOwtOX",
    "outputId": "e5238d02-cb64-484b-a7ec-5d6f6855303b"
   },
   "outputs": [
    {
     "name": "stdout",
     "output_type": "stream",
     "text": [
      "Dataset/Validation/Zooming In With Full Hand\n",
      "Dataset/Validation/Sliding Two Fingers Left\n",
      "Dataset/Validation/Sliding Two Fingers Down\n",
      "Dataset/Validation/Pulling Hand In\n",
      "Dataset/Validation/Pulling Two Fingers In\n",
      "Dataset/Validation/Doing other things\n",
      "Dataset/Validation/Swiping Down\n",
      "Dataset/Validation/Thumb Up\n",
      "Dataset/Validation/Swiping Left\n",
      "Dataset/Validation/Swiping Up\n",
      "Dataset/Validation/Zooming In With Two Fingers\n",
      "Dataset/Validation/Rolling Hand Forward\n",
      "Dataset/Validation/Rolling Hand Backward\n",
      "Dataset/Validation/No gesture\n",
      "Dataset/Validation/Thumb Down\n",
      "Dataset/Validation/Stop Sign\n",
      "Dataset/Validation/Sliding Two Fingers Right\n",
      "Dataset/Validation/Drumming Fingers\n",
      "Dataset/Validation/Turning Hand Counterclockwise\n",
      "Dataset/Validation/Swiping Right\n",
      "Dataset/Validation/Shaking Hand\n",
      "Dataset/Validation/Pushing Two Fingers Away\n",
      "Dataset/Validation/Pushing Hand Away\n",
      "Dataset/Validation/Sliding Two Fingers Up\n",
      "Dataset/Validation/Zooming Out With Two Fingers\n",
      "Dataset/Validation/Zooming Out With Full Hand\n",
      "Dataset/Validation/Turning Hand Clockwise\n"
     ]
    }
   ],
   "source": [
    "for item in val_data_root.iterdir():\n",
    "    print(item)"
   ]
  },
  {
   "cell_type": "code",
   "execution_count": 17,
   "metadata": {
    "colab": {
     "base_uri": "https://localhost:8080/",
     "height": 51
    },
    "colab_type": "code",
    "id": "MHqFz84PyfW0",
    "outputId": "c0e3eb0a-9c59-4075-fce3-af64a41abb6d"
   },
   "outputs": [
    {
     "name": "stdout",
     "output_type": "stream",
     "text": [
      "532578\n",
      "4219150\n"
     ]
    }
   ],
   "source": [
    "val_image_paths = list(val_data_root.glob('*/*/*'))\n",
    "val_image_paths = [str(path) for path in val_image_paths]\n",
    "\n",
    "train_image_paths = list(train_data_root.glob('*/*/*'))\n",
    "train_image_paths = [str(path) for path in train_image_paths]\n",
    "\n",
    "val_image_count = len(val_image_paths)\n",
    "print(val_image_count)\n",
    "\n",
    "train_image_count = len(train_image_paths)\n",
    "print(train_image_count)"
   ]
  },
  {
   "cell_type": "code",
   "execution_count": 18,
   "metadata": {
    "colab": {
     "base_uri": "https://localhost:8080/",
     "height": 187
    },
    "colab_type": "code",
    "id": "fhxeZRbwy7Si",
    "outputId": "3fa9885b-1cd8-4a39-a094-c7434fd33d04"
   },
   "outputs": [
    {
     "data": {
      "text/plain": [
       "['Dataset/Train/Zooming In With Full Hand/125912/00027.jpg',\n",
       " 'Dataset/Train/Zooming In With Full Hand/125912/00020.jpg',\n",
       " 'Dataset/Train/Zooming In With Full Hand/125912/00031.jpg',\n",
       " 'Dataset/Train/Zooming In With Full Hand/125912/00029.jpg',\n",
       " 'Dataset/Train/Zooming In With Full Hand/125912/00003.jpg',\n",
       " 'Dataset/Train/Zooming In With Full Hand/125912/00002.jpg',\n",
       " 'Dataset/Train/Zooming In With Full Hand/125912/00021.jpg',\n",
       " 'Dataset/Train/Zooming In With Full Hand/125912/00016.jpg',\n",
       " 'Dataset/Train/Zooming In With Full Hand/125912/00010.jpg',\n",
       " 'Dataset/Train/Zooming In With Full Hand/125912/00025.jpg']"
      ]
     },
     "execution_count": 18,
     "metadata": {
      "tags": []
     },
     "output_type": "execute_result"
    }
   ],
   "source": [
    "val_image_paths[:10]\n",
    "train_image_paths[:10]"
   ]
  },
  {
   "cell_type": "code",
   "execution_count": 19,
   "metadata": {
    "colab": {
     "base_uri": "https://localhost:8080/",
     "height": 476
    },
    "colab_type": "code",
    "id": "DdKPVsXUzcqa",
    "outputId": "864e2a6d-6438-4878-f543-35cfa390cd55"
   },
   "outputs": [
    {
     "data": {
      "text/plain": [
       "['Doing other things',\n",
       " 'Drumming Fingers',\n",
       " 'No gesture',\n",
       " 'Pulling Hand In',\n",
       " 'Pulling Two Fingers In',\n",
       " 'Pushing Hand Away',\n",
       " 'Pushing Two Fingers Away',\n",
       " 'Rolling Hand Backward',\n",
       " 'Rolling Hand Forward',\n",
       " 'Shaking Hand',\n",
       " 'Sliding Two Fingers Down',\n",
       " 'Sliding Two Fingers Left',\n",
       " 'Sliding Two Fingers Right',\n",
       " 'Sliding Two Fingers Up',\n",
       " 'Stop Sign',\n",
       " 'Swiping Down',\n",
       " 'Swiping Left',\n",
       " 'Swiping Right',\n",
       " 'Swiping Up',\n",
       " 'Thumb Down',\n",
       " 'Thumb Up',\n",
       " 'Turning Hand Clockwise',\n",
       " 'Turning Hand Counterclockwise',\n",
       " 'Zooming In With Full Hand',\n",
       " 'Zooming In With Two Fingers',\n",
       " 'Zooming Out With Full Hand',\n",
       " 'Zooming Out With Two Fingers']"
      ]
     },
     "execution_count": 19,
     "metadata": {
      "tags": []
     },
     "output_type": "execute_result"
    }
   ],
   "source": [
    "label_names = sorted(item.name for item in train_data_root.glob('*/') if item.is_dir())\n",
    "label_names"
   ]
  },
  {
   "cell_type": "code",
   "execution_count": 20,
   "metadata": {
    "colab": {
     "base_uri": "https://localhost:8080/",
     "height": 476
    },
    "colab_type": "code",
    "id": "afTtlWv_0D37",
    "outputId": "2bd110a7-c207-43b0-f543-617b329048d6"
   },
   "outputs": [
    {
     "data": {
      "text/plain": [
       "{'Doing other things': 0,\n",
       " 'Drumming Fingers': 1,\n",
       " 'No gesture': 2,\n",
       " 'Pulling Hand In': 3,\n",
       " 'Pulling Two Fingers In': 4,\n",
       " 'Pushing Hand Away': 5,\n",
       " 'Pushing Two Fingers Away': 6,\n",
       " 'Rolling Hand Backward': 7,\n",
       " 'Rolling Hand Forward': 8,\n",
       " 'Shaking Hand': 9,\n",
       " 'Sliding Two Fingers Down': 10,\n",
       " 'Sliding Two Fingers Left': 11,\n",
       " 'Sliding Two Fingers Right': 12,\n",
       " 'Sliding Two Fingers Up': 13,\n",
       " 'Stop Sign': 14,\n",
       " 'Swiping Down': 15,\n",
       " 'Swiping Left': 16,\n",
       " 'Swiping Right': 17,\n",
       " 'Swiping Up': 18,\n",
       " 'Thumb Down': 19,\n",
       " 'Thumb Up': 20,\n",
       " 'Turning Hand Clockwise': 21,\n",
       " 'Turning Hand Counterclockwise': 22,\n",
       " 'Zooming In With Full Hand': 23,\n",
       " 'Zooming In With Two Fingers': 24,\n",
       " 'Zooming Out With Full Hand': 25,\n",
       " 'Zooming Out With Two Fingers': 26}"
      ]
     },
     "execution_count": 20,
     "metadata": {
      "tags": []
     },
     "output_type": "execute_result"
    }
   ],
   "source": [
    "label_to_index = {name: index for index, name in enumerate(label_names)}\n",
    "label_to_index"
   ]
  },
  {
   "cell_type": "code",
   "execution_count": 31,
   "metadata": {
    "colab": {
     "base_uri": "https://localhost:8080/",
     "height": 34
    },
    "colab_type": "code",
    "id": "7RLEjldO0H3Y",
    "outputId": "79828653-49f5-4e12-e435-6c8531026467"
   },
   "outputs": [
    {
     "name": "stdout",
     "output_type": "stream",
     "text": [
      "First 10 labels indices:  [23, 23, 23, 23, 23, 23, 23, 23, 23, 23]\n"
     ]
    }
   ],
   "source": [
    "train_image_labels = [label_to_index[pathlib.Path(path).parent.parent.name]\n",
    "                    for path in train_image_paths]\n",
    "\n",
    "val_image_labels = [label_to_index[pathlib.Path(path).parent.parent.name]\n",
    "                    for path in val_image_paths]\n",
    "\n",
    "print(\"First 10 labels indices: \", train_image_labels[:10])"
   ]
  },
  {
   "cell_type": "code",
   "execution_count": 0,
   "metadata": {
    "colab": {
     "base_uri": "https://localhost:8080/",
     "height": 85
    },
    "colab_type": "code",
    "id": "SIg6Y6bD1SO5",
    "outputId": "c259787d-8d7d-4bff-8ed0-e0750ab72824"
   },
   "outputs": [
    {
     "name": "stdout",
     "output_type": "stream",
     "text": [
      "100 100\n",
      "100 100\n",
      "100 176\n",
      "100 176\n"
     ]
    }
   ],
   "source": [
    "print(min([tf.image.decode_image(tf.io.read_file(img_path)).shape[0] for img_path in train_image_paths]), max([tf.image.decode_image(tf.io.read_file(img_path)).shape[0] for img_path in train_image_paths]))\n",
    "print(min([tf.image.decode_image(tf.io.read_file(img_path)).shape[0] for img_path in val_image_paths]), max([tf.image.decode_image(tf.io.read_file(img_path)).shape[0] for img_path in val_image_paths]))\n",
    "print(min([tf.image.decode_image(tf.io.read_file(img_path)).shape[1] for img_path in train_image_paths]), max([tf.image.decode_image(tf.io.read_file(img_path)).shape[1] for img_path in train_image_paths]))\n",
    "print(min([tf.image.decode_image(tf.io.read_file(img_path)).shape[1] for img_path in val_image_paths]), max([tf.image.decode_image(tf.io.read_file(img_path)).shape[1] for img_path in val_image_paths]))"
   ]
  },
  {
   "cell_type": "code",
   "execution_count": 0,
   "metadata": {
    "colab": {
     "base_uri": "https://localhost:8080/",
     "height": 34
    },
    "colab_type": "code",
    "id": "n7eKLe442gSz",
    "outputId": "2bd30ce3-d782-4c6f-8584-69411e6c69d8"
   },
   "outputs": [
    {
     "name": "stdout",
     "output_type": "stream",
     "text": [
      "{'.jpg'} {'.jpg'}\n"
     ]
    }
   ],
   "source": [
    "print(set(map(lambda x: x[-4:], train_image_paths)), set(map(lambda x: x[-4:], val_image_paths)))"
   ]
  },
  {
   "cell_type": "code",
   "execution_count": 0,
   "metadata": {
    "colab": {},
    "colab_type": "code",
    "id": "jZcBW-WxGk4O"
   },
   "outputs": [],
   "source": [
    "# Decode the video frames as int64 values of color & recast it as float32\n",
    "# Resize the video frames into a standard size (100, 100, channels = 3)\n",
    "\n",
    "#@tf.function\n",
    "def preprocess_image(image):\n",
    "    # img_raw = tf.io.read_file(img_path)\n",
    "    # img_tensor = tf.image.decode_image(img_raw)\n",
    "    image = tf.image.decode_jpeg(image, channels=3)\n",
    "    image = tf.image.resize(image, [100, 100])\n",
    "    image /= 255.0  # normalize to [0,1] range\n",
    "    return image\n",
    "\n",
    "def load_and_preprocess_image(path):\n",
    "    image = tf.io.read_file(path)\n",
    "    return preprocess_image(image)\n",
    "\n",
    "def load_and_preprocess_from_path_label(path, label):\n",
    "    return load_and_preprocess_image(path), label"
   ]
  },
  {
   "cell_type": "code",
   "execution_count": 0,
   "metadata": {
    "colab": {},
    "colab_type": "code",
    "id": "pF9WxUGm2VIQ"
   },
   "outputs": [],
   "source": [
    "# Load the images as tensors (numpy-like multidimensional arrays)\n",
    "\n",
    "train_path_ds = tf.data.Dataset.from_tensor_slices(train_image_paths)\n",
    "train_image_ds = train_path_ds.map(load_and_preprocess_image, num_parallel_calls=AUTOTUNE)\n",
    "\n",
    "val_path_ds = tf.data.Dataset.from_tensor_slices(val_image_paths)\n",
    "val_image_ds = val_path_ds.map(load_and_preprocess_image, num_parallel_calls=AUTOTUNE)"
   ]
  },
  {
   "cell_type": "code",
   "execution_count": 0,
   "metadata": {
    "colab": {},
    "colab_type": "code",
    "id": "oNtddPIy_MQU"
   },
   "outputs": [],
   "source": [
    "# Pair the video frames with their respective label (Gesture Class)\n",
    "\n",
    "train_label_ds = tf.data.Dataset.from_tensor_slices(tf.cast(train_image_labels, tf.int64))\n",
    "val_label_ds = tf.data.Dataset.from_tensor_slices(tf.cast(val_image_labels, tf.int64))\n",
    "\n",
    "train_image_label_ds = tf.data.Dataset.zip((train_image_ds, train_label_ds))\n",
    "val_image_label_ds = tf.data.Dataset.zip((val_image_ds, val_label_ds))"
   ]
  }
 ],
 "metadata": {
  "accelerator": "GPU",
  "colab": {
   "collapsed_sections": [],
   "name": "Data_Loading.ipynb",
   "provenance": [],
   "version": "0.3.2"
  },
  "kernelspec": {
   "display_name": "Python 3",
   "language": "python",
   "name": "python3"
  },
  "language_info": {
   "codemirror_mode": {
    "name": "ipython",
    "version": 3
   },
   "file_extension": ".py",
   "mimetype": "text/x-python",
   "name": "python",
   "nbconvert_exporter": "python",
   "pygments_lexer": "ipython3",
   "version": "3.7.3"
  }
 },
 "nbformat": 4,
 "nbformat_minor": 1
}
