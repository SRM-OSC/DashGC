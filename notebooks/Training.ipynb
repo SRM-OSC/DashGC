{
 "cells": [
  {
   "cell_type": "markdown",
   "metadata": {},
   "source": [
    "## Retrieving the Dataset\n",
    "1. Change runtime type to `Python 3 with GPU`\n",
    "2. Authorize the notebook to mount your Google Drive\n",
    "3. Decompress the Dataset onto the local disk (Ephemeral Storage of the provisioned Google Colab VM)"
   ]
  },
  {
   "cell_type": "code",
   "execution_count": null,
   "metadata": {},
   "outputs": [],
   "source": [
    "import csv\n",
    "import os\n",
    "import shutil\n",
    "import time\n",
    "from google.colab import drive\n",
    "drive.mount('/content/gdrive')"
   ]
  },
  {
   "cell_type": "code",
   "execution_count": null,
   "metadata": {},
   "outputs": [],
   "source": [
    "start = time.time()\n",
    "!cat /content/gdrive/My\\ Drive/DashGC/20bn-jester-v1-?? | tar -zx\n",
    "stop = time.time()\n",
    "print('Decompression took', round(((stop - start) / 60), 2), 'mins')"
   ]
  },
  {
   "cell_type": "code",
   "execution_count": null,
   "metadata": {},
   "outputs": [],
   "source": [
    "print(os.getcwd())\n",
    "dirs = os.listdir('20bn-jester-v1')\n",
    "print(len(dirs))\n",
    "\n",
    "directories = {dir: len(os.listdir('20bn-jester-v1/' + dir))\n",
    "               for dir in dirs}\n",
    "print(len(directories.keys()))\n",
    "print(min(directories.values()), max(directories.values()))"
   ]
  },
  {
   "cell_type": "code",
   "execution_count": null,
   "metadata": {},
   "outputs": [],
   "source": [
    "def copier(filedir, lastfile):\n",
    "    '''\n",
    "    Copy the image multiple times.\n",
    "    filedir: path to directory\n",
    "    lastfile: file to duplicate within the filedir directory\n",
    "    '''\n",
    "\n",
    "    with open('20bn-jester-v1/' + filedir + '/' + lastfile, 'rb') as mainfile:\n",
    "        data = mainfile.read()\n",
    "    last = int(lastfile[0:-4])\n",
    "    while last < 70:\n",
    "        last += 1\n",
    "        new = str(last)\n",
    "        fname = ('0' * (5 - len(new))) + new + '.jpg'\n",
    "        with open('20bn-jester-v1/' + filedir + '/' + fname, 'wb') as file:\n",
    "            file.write(data)"
   ]
  },
  {
   "cell_type": "code",
   "execution_count": null,
   "metadata": {},
   "outputs": [],
   "source": [
    "tic = time.time()\n",
    "for dir in dirs:\n",
    "    count = len(os.listdir('20bn-jester-v1/' + dir))\n",
    "    chars = 1 if count < 10 else 2\n",
    "    lastfile = '0' * (5 - chars) + str(count) + '.jpg'\n",
    "    copier(dir, lastfile)\n",
    "toc = time.time()\n",
    "print('Created duplicates in', round(((toc - tic) / 60), 2), 'mins')"
   ]
  },
  {
   "cell_type": "code",
   "execution_count": null,
   "metadata": {},
   "outputs": [],
   "source": [
    "def organise_dataset(csvfile, mode, srcdir = '/content/20bn-jester-v1/'):\n",
    "    with open(csvfile, newline = '\\n') as cf:\n",
    "        reader = csv.reader(cf, delimiter=';')\n",
    "        filetree = {}\n",
    "        for row in reader:\n",
    "            #print(row)\n",
    "            if row[1] not in filetree.keys():\n",
    "                filetree[row[1]] = []\n",
    "            filetree[row[1]].append(row[0])\n",
    "        print('Number of labels (subdirectories)', len(filetree.keys()))\n",
    "        ln = []\n",
    "        print('Number of samples for particular label')\n",
    "        for label in filetree.keys():\n",
    "            print(label, len(filetree[label]))\n",
    "            ln.append(len(filetree[label]))\n",
    "        print('minimum samples: ', min(ln), 'maximum samples: ', max(ln))\n",
    "        \n",
    "    if not os.path.exists('/content/Dataset'):\n",
    "        os.mkdir('/content/Dataset')\n",
    "    \n",
    "    if mode in ['train', 'Train', 'training', 'Training']:\n",
    "        path = '/content/Dataset/Train'\n",
    "    elif mode in ['validation', 'Validation']:\n",
    "        path = '/content/Dataset/Validation'\n",
    "    \n",
    "    os.mkdir(path)\n",
    "    path += '/'\n",
    "\n",
    "    print('Number of copied samples for particular label')\n",
    "    for fd in filetree.keys():\n",
    "        os.mkdir(path + fd)\n",
    "        #print(len(os.listdir('/content/20bn-jester-v1/')))       \n",
    "        for folder in filetree[fd]:\n",
    "            os.mkdir(path + fd + '/' + folder)\n",
    "            for file in os.listdir(srcdir + folder):\n",
    "                shutil.copy(srcdir + folder + '/' + file, path + fd + '/' + folder)\n",
    "                #shutil.copy2()        \n",
    "        print(fd, len(os.listdir(path + fd)))"
   ]
  },
  {
   "cell_type": "code",
   "execution_count": null,
   "metadata": {},
   "outputs": [],
   "source": [
    "tic = time.time()\n",
    "organise_dataset('/content/gdrive/My Drive/DashGC/jester-v1-train.csv', 'Train')\n",
    "toc = time.time()\n",
    "print('Training Dataset organised in ', round(((toc - tic) / 60), 2), 'mins')"
   ]
  },
  {
   "cell_type": "code",
   "execution_count": null,
   "metadata": {},
   "outputs": [],
   "source": [
    "tic = time.time()\n",
    "organise_dataset('/content/gdrive/My Drive/DashGC/jester-v1-validation.csv', 'Validation')\n",
    "toc = time.time()\n",
    "print('Validation Dataset organised in ', round(((toc - tic) / 60), 2), 'mins')"
   ]
  }
 ],
 "metadata": {
  "kernelspec": {
   "display_name": "Python 3",
   "language": "python",
   "name": "python3"
  },
  "language_info": {
   "codemirror_mode": {
    "name": "ipython",
    "version": 3
   },
   "file_extension": ".py",
   "mimetype": "text/x-python",
   "name": "python",
   "nbconvert_exporter": "python",
   "pygments_lexer": "ipython3",
   "version": "3.7.3"
  }
 },
 "nbformat": 4,
 "nbformat_minor": 2
}
